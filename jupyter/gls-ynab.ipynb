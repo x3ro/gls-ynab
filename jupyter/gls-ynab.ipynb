{
 "cells": [
  {
   "cell_type": "code",
   "execution_count": null,
   "metadata": {},
   "outputs": [],
   "source": [
    "import pandas as pd"
   ]
  },
  {
   "cell_type": "code",
   "execution_count": null,
   "metadata": {
    "scrolled": false
   },
   "outputs": [],
   "source": [
    "df = pd.read_csv(\"example.csv\",\n",
    "                 encoding=\"cp1252\",\n",
    "                 delimiter=\";\",\n",
    "                 parse_dates=['Buchungstag', 'Wertstellung'],\n",
    "                 dayfirst=True,\n",
    "                 decimal=',',\n",
    "                 float_precision='high')\n",
    "df[:5]"
   ]
  },
  {
   "cell_type": "code",
   "execution_count": null,
   "metadata": {},
   "outputs": [],
   "source": [
    "df1 = df.drop(['Wertstellung', 'Kontonummer', 'Buchungstext', 'Kontostand', 'Währung'], axis=1)\n",
    "df1.rename(columns={'Auftraggeber/Empfänger': 'Payee', 'Buchungstag': 'Date'}, inplace=True)\n",
    "df1 = df1.set_index('Date')\n",
    "df1[:1]\n"
   ]
  },
  {
   "cell_type": "code",
   "execution_count": null,
   "metadata": {},
   "outputs": [],
   "source": [
    "def merge_vwzs(row):\n",
    "    vwzs_with_value = [str(col) for col in row if type(col) is str]\n",
    "    return ' '.join(vwzs_with_value)\n",
    "\n",
    "df2 = df1.copy()\n",
    "vwzs = list(filter(lambda x: x.startswith('VWZ'), df.columns))\n",
    "df2['Memo'] = df1[vwzs].apply(lambda x: merge_vwzs(x), axis=1)\n",
    "df2 = df2.drop(vwzs, axis=1) \n",
    "df2[:1]"
   ]
  },
  {
   "cell_type": "code",
   "execution_count": null,
   "metadata": {},
   "outputs": [],
   "source": [
    "df3 = df2.copy()\n",
    "df3['Outflow'] = df3['Betrag'].apply(lambda x: -x if x < 0 else 0)\n",
    "df3['Inflow'] = df3['Betrag'].apply(lambda x: x if x >= 0 else 0)\n",
    "df3 = df3.drop('Betrag', axis=1)\n",
    "df3[:5]"
   ]
  },
  {
   "cell_type": "code",
   "execution_count": null,
   "metadata": {},
   "outputs": [],
   "source": [
    "print(df3[:2].to_csv(date_format='%m/%d/%y'))"
   ]
  },
  {
   "cell_type": "code",
   "execution_count": null,
   "metadata": {},
   "outputs": [],
   "source": [
    "#df3.to_csv(path_or_buf='./out.csv',date_format='%m/%d/%y')\n",
    "df3.to_csv(path_or_buf='./out.csv')"
   ]
  },
  {
   "cell_type": "code",
   "execution_count": null,
   "metadata": {},
   "outputs": [],
   "source": []
  },
  {
   "cell_type": "code",
   "execution_count": null,
   "metadata": {},
   "outputs": [],
   "source": []
  }
 ],
 "metadata": {
  "kernelspec": {
   "display_name": "Python 3",
   "language": "python",
   "name": "python3"
  },
  "language_info": {
   "codemirror_mode": {
    "name": "ipython",
    "version": 3
   },
   "file_extension": ".py",
   "mimetype": "text/x-python",
   "name": "python",
   "nbconvert_exporter": "python",
   "pygments_lexer": "ipython3",
   "version": "3.6.5"
  }
 },
 "nbformat": 4,
 "nbformat_minor": 2
}
